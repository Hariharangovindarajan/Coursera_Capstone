{
    "nbformat_minor": 1, 
    "cells": [
        {
            "source": "# CAPSTONE PROJECT: BATTLE OF THE NEIGHBORHOODS\nSingapore Visitors and Expatriates Venue Recommendation\n", 
            "cell_type": "markdown", 
            "metadata": {
                "collapsed": true
            }
        }, 
        {
            "source": "I. PURPOSE\nThis document provides the details of my final peer reviewed assignment for the IBM Data Science Professional Certificate program \u2013 Coursera Capstone.", 
            "cell_type": "markdown", 
            "metadata": {}
        }, 
        {
            "source": "II. INTRODUCTION\nSingapore is a small country and one of the most visited countries in Asia. There are a lot of websites where travelers can check and retrieve recommendations of places to stay or visit. However, most of these websites provides recommendation simply based on usual tourist attractions or key residential areas that are mostly expensive or already known for travelers based on certain keywords like \"Hotel\", or \"Backpackers\" etc. The intention on this project is to collect and provide a data driven recommendation that can supplement the recommendation with statistical data. This will also be utilizing data retrieved from Singapore open data sources and FourSquare API venue recommendations.\nThe sample recommender in this notebook will provide the following use case scenario:\nA person planning to visit Singapore as a Tourist or an Expat and looking for a reasonable accommodation.\nThe user wants to receive venue recommendation where he can stay or rent an HDB apartment with close proximity to places of interest or search category option.\nThe recommendation should not only present the most viable option, but also present a comparison table of all possible town venues.\nFor this demonstration, this notebook will make use of the following data:\nSingapore Median Rental Prices by town.\nPopular Food venues in the vicinity. (Sample category selection)\nNote: While this demo makes use of Food Venue Category, Other possible categories can also be used for the same implementation such as checking categories like:\nOutdoors and Recreation\nNightlife\nNearby Schools, etc.\nI will limit the scope of this search as FourSquare API only allows 50 free venue query limit per day when using a free user access.\n\nIII. DATA ACQUISITION\nThis demonstration will make use of the following data sources:\nSingapore Towns and median residential rental prices.\nData will retrieved from Singapore open dataset from median rent by town and flattype from https://data.gov.sg website.\nThe original data source contains median rental prices of Singapore HDB units from 2005 up to 2nd quarter of 2018. I will retrieve rental the most recent recorded rental prices from this data source (Q2 2018) being the most relevant price available at this time. For this demonstration, I will simplify the analysis by using the average rental prices of all available flat type.\nSingapore Towns location data retrieved using Google maps API.\nData coordinates of Town Venues will be retrieved using google API. I also make use of MRT stations coordinate as a more important center of for all towns included in venue recommendations.\nSingapore Top Venue Recommendations from FourSquare API\n(FourSquare website: www.foursquare.com)\nI will be using the FourSquare API to explore neighborhoods in selected towns in Singapore. The Foursquare explore function will be used to get the most common venue categories in each neighborhood, and then use this feature to group the neighborhoods into clusters. The following information are retrieved on the first query:\nVenue ID\nVenue Name\nCoordinates : Latitude and Longitude\nCategory Name\nAnother venue query will be performed to retrieve venue ratings for each location. Note that rating information is a paid service from FourSquare and we are limited to only 50 queries per day. With this constraint, we limit the category analysis with only one type for this demo. I will try to retrieve as many ratings as possible for each retrieved venue ID.\n\nIV. METHODOLOGY\nSingapore Towns List with median residential rental prices.\nThe source data contains median rental prices of Singapore HDB units from 2005 up to 2nd quarter of 2018. I will retrive the most recent recorded rental prices from this data source (Q2 2018) being the most relevant price available at this time. For this demonstration, I will simplify the analysis by using the average rental prices of all available flat type.\nData Cleanup and re-grouping. The retrieved table contains some un-wanted entries and needs some cleanup.\nThe following tasks will be performed:\nDrop/ignore cells with missing data.\nUse most current data record.\nFix data types.", 
            "cell_type": "markdown", 
            "metadata": {}
        }, 
        {
            "source": "III. DATA ACQUISITION This demonstration will make use of the following data sources: Singapore Towns and median residential rental prices. Data will retrieved from Singapore open dataset from median rent by town and flattype from https://data.gov.sg website. The original data source contains median rental prices of Singapore HDB units from 2005 up to 2nd quarter of 2018. I will retrieve rental the most recent recorded rental prices from this data source (Q2 2018) being the most relevant price available at this time. For this demonstration, I will simplify the analysis by using the average rental prices of all available flat type. Singapore Towns location data retrieved using Google maps API. Data coordinates of Town Venues will be retrieved using google API. I also make use of MRT stations coordinate as a more important center of for all towns included in venue recommendations. Singapore Top Venue Recommendations from FourSquare API (FourSquare website: www.foursquare.com) I will be using the FourSquare API to explore neighborhoods in selected towns in Singapore. The Foursquare explore function will be used to get the most common venue categories in each neighborhood, and then use this feature to group the neighborhoods into clusters. The following information are retrieved on the first query: Venue ID Venue Name Coordinates : Latitude and Longitude Category Name Another venue query will be performed to retrieve venue ratings for each location. Note that rating information is a paid service from FourSquare and we are limited to only 50 queries per day. With this constraint, we limit the category analysis with only one type for this demo. I will try to retrieve as many ratings as possible for each retrieved venue ID.# ", 
            "cell_type": "markdown", 
            "metadata": {}
        }, 
        {
            "source": "Importing Python Libraries\nThis section imports required python libraries for processing data. \nWhile this first part of python notebook is for data acquisition, we will use some of the libraries make some data visualization.", 
            "cell_type": "markdown", 
            "metadata": {}
        }, 
        {
            "source": "!conda install -c conda-forge folium=0.5.0 --yes # comment/uncomment if not yet installed.\n!conda install -c conda-forge geopy --yes        # comment/uncomment if not yet installed\n\nimport numpy as np # library to handle data in a vectorized manner\nimport pandas as pd # library for data analsysis\n\n# Numpy and Pandas libraries were already imported at the beginning of this notebook.\npd.set_option('display.max_columns', None)\npd.set_option('display.max_rows', None)\n\nimport json # library to handle JSON files\nfrom geopy.geocoders import Nominatim # convert an address into latitude and longitude values\nfrom pandas.io.json import json_normalize # tranform JSON file into a pandas dataframe\n# Matplotlib and associated plotting modules\nimport matplotlib.cm as cm\nimport matplotlib.colors as colors\n# import k-means from clustering stage\nfrom sklearn.cluster import KMeans\nimport folium # map rendering library\n\nimport requests # library to handle requests\nimport lxml.html as lh\nimport bs4 as bs\nimport urllib.request\n\nprint('Libraries imported.')", 
            "cell_type": "code", 
            "execution_count": 1, 
            "outputs": [
                {
                    "output_type": "stream", 
                    "name": "stdout", 
                    "text": "Solving environment: done\n\n## Package Plan ##\n\n  environment location: /opt/conda/envs/Python36\n\n  added / updated specs: \n    - folium=0.5.0\n\n\nThe following packages will be downloaded:\n\n    package                    |            build\n    ---------------------------|-----------------\n    ca-certificates-2019.9.11  |       hecc5488_0         144 KB  conda-forge\n    vincent-0.4.4              |             py_1          28 KB  conda-forge\n    branca-0.3.1               |             py_0          25 KB  conda-forge\n    openssl-1.1.1c             |       h516909a_0         2.1 MB  conda-forge\n    altair-3.2.0               |           py36_0         770 KB  conda-forge\n    folium-0.5.0               |             py_0          45 KB  conda-forge\n    certifi-2019.9.11          |           py36_0         147 KB  conda-forge\n    ------------------------------------------------------------\n                                           Total:         3.3 MB\n\nThe following NEW packages will be INSTALLED:\n\n    altair:          3.2.0-py36_0      conda-forge\n    branca:          0.3.1-py_0        conda-forge\n    folium:          0.5.0-py_0        conda-forge\n    vincent:         0.4.4-py_1        conda-forge\n\nThe following packages will be UPDATED:\n\n    ca-certificates: 2019.5.15-1                   --> 2019.9.11-hecc5488_0 conda-forge\n    certifi:         2019.6.16-py36_1              --> 2019.9.11-py36_0     conda-forge\n\nThe following packages will be DOWNGRADED:\n\n    openssl:         1.1.1d-h7b6447c_1             --> 1.1.1c-h516909a_0    conda-forge\n\n\nDownloading and Extracting Packages\nca-certificates-2019 | 144 KB    | ##################################### | 100% \nvincent-0.4.4        | 28 KB     | ##################################### | 100% \nbranca-0.3.1         | 25 KB     | ##################################### | 100% \nopenssl-1.1.1c       | 2.1 MB    | ##################################### | 100% \naltair-3.2.0         | 770 KB    | ##################################### | 100% \nfolium-0.5.0         | 45 KB     | ##################################### | 100% \ncertifi-2019.9.11    | 147 KB    | ##################################### | 100% \nPreparing transaction: done\nVerifying transaction: done\nExecuting transaction: done\nSolving environment: done\n\n## Package Plan ##\n\n  environment location: /opt/conda/envs/Python36\n\n  added / updated specs: \n    - geopy\n\n\nThe following packages will be downloaded:\n\n    package                    |            build\n    ---------------------------|-----------------\n    geopy-1.20.0               |             py_0          57 KB  conda-forge\n    geographiclib-1.50         |             py_0          34 KB  conda-forge\n    ------------------------------------------------------------\n                                           Total:          91 KB\n\nThe following NEW packages will be INSTALLED:\n\n    geographiclib: 1.50-py_0   conda-forge\n    geopy:         1.20.0-py_0 conda-forge\n\n\nDownloading and Extracting Packages\ngeopy-1.20.0         | 57 KB     | ##################################### | 100% \ngeographiclib-1.50   | 34 KB     | ##################################### | 100% \nPreparing transaction: done\nVerifying transaction: done\nExecuting transaction: done\nLibraries imported.\n"
                }
            ], 
            "metadata": {}
        }, 
        {
            "source": "from IPython.display import HTML\nimport base64\n\n# Extra Helper scripts to generate download links for saved dataframes in csv format.\ndef create_download_link( df, title = \"Download CSV file\", filename = \"data.csv\"):  \n    csv = df.to_csv()\n    b64 = base64.b64encode(csv.encode())\n    payload = b64.decode()\n    html = '<a download=\"{filename}\" href=\"data:text/csv;base64,{payload}\" target=\"_blank\">{title}</a>'\n    html = html.format(payload=payload,title=title,filename=filename)\n    return HTML(html)", 
            "cell_type": "code", 
            "execution_count": 2, 
            "outputs": [], 
            "metadata": {}
        }, 
        {
            "source": "import zipfile\nimport os\n!wget -q -O 'median-rent-by-town-and-flat-type.zip' \"https://data.gov.sg/dataset/b35046dc-7428-4cff-968d-ef4c3e9e6c99/download\"\nzf = zipfile.ZipFile('./median-rent-by-town-and-flat-type.zip')\nsgp_median_rent_by_town_data = pd.read_csv(zf.open(\"median-rent-by-town-and-flat-type.csv\"))\nsgp_median_rent_by_town_data.rename(columns = {'town':'Town'}, inplace = True)\nsgp_median_rent_by_town_data.head()", 
            "cell_type": "code", 
            "execution_count": 3, 
            "outputs": [
                {
                    "output_type": "execute_result", 
                    "metadata": {}, 
                    "data": {
                        "text/html": "<div>\n<style scoped>\n    .dataframe tbody tr th:only-of-type {\n        vertical-align: middle;\n    }\n\n    .dataframe tbody tr th {\n        vertical-align: top;\n    }\n\n    .dataframe thead th {\n        text-align: right;\n    }\n</style>\n<table border=\"1\" class=\"dataframe\">\n  <thead>\n    <tr style=\"text-align: right;\">\n      <th></th>\n      <th>quarter</th>\n      <th>Town</th>\n      <th>flat_type</th>\n      <th>median_rent</th>\n    </tr>\n  </thead>\n  <tbody>\n    <tr>\n      <th>0</th>\n      <td>2005-Q2</td>\n      <td>ANG MO KIO</td>\n      <td>1-RM</td>\n      <td>na</td>\n    </tr>\n    <tr>\n      <th>1</th>\n      <td>2005-Q2</td>\n      <td>ANG MO KIO</td>\n      <td>2-RM</td>\n      <td>na</td>\n    </tr>\n    <tr>\n      <th>2</th>\n      <td>2005-Q2</td>\n      <td>ANG MO KIO</td>\n      <td>3-RM</td>\n      <td>800</td>\n    </tr>\n    <tr>\n      <th>3</th>\n      <td>2005-Q2</td>\n      <td>ANG MO KIO</td>\n      <td>4-RM</td>\n      <td>950</td>\n    </tr>\n    <tr>\n      <th>4</th>\n      <td>2005-Q2</td>\n      <td>ANG MO KIO</td>\n      <td>5-RM</td>\n      <td>-</td>\n    </tr>\n  </tbody>\n</table>\n</div>", 
                        "text/plain": "   quarter        Town flat_type median_rent\n0  2005-Q2  ANG MO KIO      1-RM          na\n1  2005-Q2  ANG MO KIO      2-RM          na\n2  2005-Q2  ANG MO KIO      3-RM         800\n3  2005-Q2  ANG MO KIO      4-RM         950\n4  2005-Q2  ANG MO KIO      5-RM           -"
                    }, 
                    "execution_count": 3
                }
            ], 
            "metadata": {}
        }, 
        {
            "source": "# Drop rows with rental price == 'na'.\nsgp_median_rent_by_town_data_filter=sgp_median_rent_by_town_data[~sgp_median_rent_by_town_data['median_rent'].isin(['-','na'])]\n\n# Take the most recent report which is \"2018-Q2\"\nsgp_median_rent_by_town_data_filter=sgp_median_rent_by_town_data_filter[sgp_median_rent_by_town_data_filter['quarter'] == \"2018-Q2\"]\n\n# Now that all rows reports are \"2018-Q2\", we dont need this column anymore.\nsgp_median_rent_by_town_data_filter=sgp_median_rent_by_town_data_filter.drop(['quarter'], axis=1)\n\n# Ensure that median_rent column is float64.\nsgp_median_rent_by_town_data_filter['median_rent']=sgp_median_rent_by_town_data_filter['median_rent'].astype(np.float64)", 
            "cell_type": "code", 
            "execution_count": 4, 
            "outputs": [], 
            "metadata": {}
        }, 
        {
            "source": "singapore_average_rental_prices_by_town = sgp_median_rent_by_town_data_filter.groupby(['Town'])['median_rent'].mean().reset_index()\nsingapore_average_rental_prices_by_town", 
            "cell_type": "code", 
            "execution_count": 5, 
            "outputs": [
                {
                    "output_type": "execute_result", 
                    "metadata": {}, 
                    "data": {
                        "text/html": "<div>\n<style scoped>\n    .dataframe tbody tr th:only-of-type {\n        vertical-align: middle;\n    }\n\n    .dataframe tbody tr th {\n        vertical-align: top;\n    }\n\n    .dataframe thead th {\n        text-align: right;\n    }\n</style>\n<table border=\"1\" class=\"dataframe\">\n  <thead>\n    <tr style=\"text-align: right;\">\n      <th></th>\n      <th>Town</th>\n      <th>median_rent</th>\n    </tr>\n  </thead>\n  <tbody>\n    <tr>\n      <th>0</th>\n      <td>ANG MO KIO</td>\n      <td>2033.333333</td>\n    </tr>\n    <tr>\n      <th>1</th>\n      <td>BEDOK</td>\n      <td>2087.500000</td>\n    </tr>\n    <tr>\n      <th>2</th>\n      <td>BISHAN</td>\n      <td>2233.333333</td>\n    </tr>\n    <tr>\n      <th>3</th>\n      <td>BUKIT BATOK</td>\n      <td>1962.500000</td>\n    </tr>\n    <tr>\n      <th>4</th>\n      <td>BUKIT MERAH</td>\n      <td>2162.500000</td>\n    </tr>\n    <tr>\n      <th>5</th>\n      <td>BUKIT PANJANG</td>\n      <td>1737.500000</td>\n    </tr>\n    <tr>\n      <th>6</th>\n      <td>CENTRAL</td>\n      <td>2450.000000</td>\n    </tr>\n    <tr>\n      <th>7</th>\n      <td>CHOA CHU KANG</td>\n      <td>1933.333333</td>\n    </tr>\n    <tr>\n      <th>8</th>\n      <td>CLEMENTI</td>\n      <td>2263.333333</td>\n    </tr>\n    <tr>\n      <th>9</th>\n      <td>GEYLANG</td>\n      <td>2166.666667</td>\n    </tr>\n    <tr>\n      <th>10</th>\n      <td>HOUGANG</td>\n      <td>1962.500000</td>\n    </tr>\n    <tr>\n      <th>11</th>\n      <td>JURONG EAST</td>\n      <td>2150.000000</td>\n    </tr>\n    <tr>\n      <th>12</th>\n      <td>JURONG WEST</td>\n      <td>1975.000000</td>\n    </tr>\n    <tr>\n      <th>13</th>\n      <td>KALLANG/WHAMPOA</td>\n      <td>2300.000000</td>\n    </tr>\n    <tr>\n      <th>14</th>\n      <td>MARINE PARADE</td>\n      <td>1950.000000</td>\n    </tr>\n    <tr>\n      <th>15</th>\n      <td>PASIR RIS</td>\n      <td>2066.666667</td>\n    </tr>\n    <tr>\n      <th>16</th>\n      <td>PUNGGOL</td>\n      <td>1825.000000</td>\n    </tr>\n    <tr>\n      <th>17</th>\n      <td>QUEENSTOWN</td>\n      <td>2162.500000</td>\n    </tr>\n    <tr>\n      <th>18</th>\n      <td>SEMBAWANG</td>\n      <td>1883.333333</td>\n    </tr>\n    <tr>\n      <th>19</th>\n      <td>SENGKANG</td>\n      <td>1900.000000</td>\n    </tr>\n    <tr>\n      <th>20</th>\n      <td>SERANGOON</td>\n      <td>2187.500000</td>\n    </tr>\n    <tr>\n      <th>21</th>\n      <td>TAMPINES</td>\n      <td>2075.000000</td>\n    </tr>\n    <tr>\n      <th>22</th>\n      <td>TOA PAYOH</td>\n      <td>2210.000000</td>\n    </tr>\n    <tr>\n      <th>23</th>\n      <td>WOODLANDS</td>\n      <td>1762.500000</td>\n    </tr>\n    <tr>\n      <th>24</th>\n      <td>YISHUN</td>\n      <td>1900.000000</td>\n    </tr>\n  </tbody>\n</table>\n</div>", 
                        "text/plain": "               Town  median_rent\n0        ANG MO KIO  2033.333333\n1             BEDOK  2087.500000\n2            BISHAN  2233.333333\n3       BUKIT BATOK  1962.500000\n4       BUKIT MERAH  2162.500000\n5     BUKIT PANJANG  1737.500000\n6           CENTRAL  2450.000000\n7     CHOA CHU KANG  1933.333333\n8          CLEMENTI  2263.333333\n9           GEYLANG  2166.666667\n10          HOUGANG  1962.500000\n11      JURONG EAST  2150.000000\n12      JURONG WEST  1975.000000\n13  KALLANG/WHAMPOA  2300.000000\n14    MARINE PARADE  1950.000000\n15        PASIR RIS  2066.666667\n16          PUNGGOL  1825.000000\n17       QUEENSTOWN  2162.500000\n18        SEMBAWANG  1883.333333\n19         SENGKANG  1900.000000\n20        SERANGOON  2187.500000\n21         TAMPINES  2075.000000\n22        TOA PAYOH  2210.000000\n23        WOODLANDS  1762.500000\n24           YISHUN  1900.000000"
                    }, 
                    "execution_count": 5
                }
            ], 
            "metadata": {}
        }, 
        {
            "source": "", 
            "cell_type": "code", 
            "execution_count": null, 
            "outputs": [], 
            "metadata": {}
        }
    ], 
    "nbformat": 4, 
    "metadata": {
        "kernelspec": {
            "display_name": "Python 3.6", 
            "name": "python3", 
            "language": "python"
        }, 
        "language_info": {
            "mimetype": "text/x-python", 
            "nbconvert_exporter": "python", 
            "version": "3.6.8", 
            "name": "python", 
            "pygments_lexer": "ipython3", 
            "file_extension": ".py", 
            "codemirror_mode": {
                "version": 3, 
                "name": "ipython"
            }
        }
    }
}